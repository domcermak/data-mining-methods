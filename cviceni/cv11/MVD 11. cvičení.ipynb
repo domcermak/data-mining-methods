{
 "cells": [
  {
   "cell_type": "markdown",
   "metadata": {},
   "source": [
    "# MVD 11. cvičení\n"
   ]
  },
  {
   "cell_type": "markdown",
   "metadata": {},
   "source": [
    "## 1. část - Collaborative Filtering (item-item)\n",
    "\n",
    "Vytvořte si matici podle příkladu v přednášce na item-item přístup na snímku 24. Využijte centered cosine similarity pro výpočet podobností stejně jako v přednášce a vyberte dva nejbližší sousedy. Ověřte, že je výsledek v přednášce správný a implementujte funkci tak, aby bylo možné jednoduše spočítat i libovolné další vyhodnocení."
   ]
  },
  {
   "cell_type": "code",
   "execution_count": 270,
   "outputs": [],
   "source": [
    "import numpy as np"
   ],
   "metadata": {
    "collapsed": false,
    "pycharm": {
     "name": "#%%\n"
    }
   }
  },
  {
   "cell_type": "code",
   "execution_count": 271,
   "outputs": [],
   "source": [
    "matrix = np.array([\n",
    "    [1, None, 3, None, None, 5, None, None, 5, None, 4, None],\n",
    "    [None, None, 5, 4, None, None, 4, None, None, 2, 1, 3],\n",
    "    [2, 4, None, 1, 2, None, 3, None, 4, 3, 5, None],\n",
    "    [None, 2, 4, None, 5, None, None, 4, None, None, 2, None],\n",
    "    [None, None, 4, 3, 4, 2, None, None, None, None, 2, 5],\n",
    "    [1, None, 3, None, 3, None, None, 2, None, None, 4, None],\n",
    "], dtype=np.float)\n",
    "\n",
    "assert matrix.shape == (6, 12), matrix.shape\n"
   ],
   "metadata": {
    "collapsed": false,
    "pycharm": {
     "name": "#%%\n"
    }
   }
  },
  {
   "cell_type": "code",
   "execution_count": 272,
   "outputs": [
    {
     "data": {
      "text/plain": "array([[3.6       ],\n       [3.16666667],\n       [3.        ],\n       [3.4       ],\n       [3.33333333],\n       [2.6       ]])"
     },
     "execution_count": 272,
     "metadata": {},
     "output_type": "execute_result"
    }
   ],
   "source": [
    "means = np.nanmean(matrix, axis=1).reshape((matrix.shape[0], 1))\n",
    "means"
   ],
   "metadata": {
    "collapsed": false,
    "pycharm": {
     "name": "#%%\n"
    }
   }
  },
  {
   "cell_type": "code",
   "execution_count": 273,
   "outputs": [
    {
     "data": {
      "text/plain": "array([[-2.6       ,         nan, -0.6       ,         nan,         nan,\n         1.4       ,         nan,         nan,  1.4       ,         nan,\n         0.4       ,         nan],\n       [        nan,         nan,  1.83333333,  0.83333333,         nan,\n                nan,  0.83333333,         nan,         nan, -1.16666667,\n        -2.16666667, -0.16666667],\n       [-1.        ,  1.        ,         nan, -2.        , -1.        ,\n                nan,  0.        ,         nan,  1.        ,  0.        ,\n         2.        ,         nan],\n       [        nan, -1.4       ,  0.6       ,         nan,  1.6       ,\n                nan,         nan,  0.6       ,         nan,         nan,\n        -1.4       ,         nan],\n       [        nan,         nan,  0.66666667, -0.33333333,  0.66666667,\n        -1.33333333,         nan,         nan,         nan,         nan,\n        -1.33333333,  1.66666667],\n       [-1.6       ,         nan,  0.4       ,         nan,  0.4       ,\n                nan,         nan, -0.6       ,         nan,         nan,\n         1.4       ,         nan]])"
     },
     "execution_count": 273,
     "metadata": {},
     "output_type": "execute_result"
    }
   ],
   "source": [
    "centered_matrix = np.subtract(matrix, means, where=matrix != np.nan)\n",
    "centered_matrix"
   ],
   "metadata": {
    "collapsed": false,
    "pycharm": {
     "name": "#%%\n"
    }
   }
  },
  {
   "cell_type": "code",
   "execution_count": 274,
   "outputs": [],
   "source": [
    "def cossim(a, b):\n",
    "    return np.dot(a, b.T) / (np.linalg.norm(a) * np.linalg.norm(b))"
   ],
   "metadata": {
    "collapsed": false,
    "pycharm": {
     "name": "#%%\n"
    }
   }
  },
  {
   "cell_type": "code",
   "execution_count": 275,
   "outputs": [],
   "source": [
    "def fill_with_cossim(centered_mat, row_idx, column_idx, use_n_similarities=2):\n",
    "    significant_row = np.nan_to_num(centered_matrix[row_idx, :], nan=0.)\n",
    "    similarities = np.zeros((centered_mat.shape[0], 1))\n",
    "    for i in range(centered_matrix.shape[0]):\n",
    "        secondary_row = np.nan_to_num(centered_matrix[i, :], nan=0.)\n",
    "        similarities[i] = cossim(significant_row, secondary_row)\n",
    "\n",
    "    # find the index of largest similarity\n",
    "    true_indexes = sorted(range(len(similarities.ravel())), key=lambda i: similarities[i])[-3:] # argsort, partition neither other worked\n",
    "    true_indexes.remove(row_idx) # except self-similarity\n",
    "    max_similarity_indexes = np.zeros(similarities.shape, dtype=np.bool)\n",
    "    max_similarity_indexes[true_indexes, :] = True\n",
    "\n",
    "    values_from_mat = np.nan_to_num(centered_mat[max_similarity_indexes.ravel(), column_idx], nan=0.).reshape(use_n_similarities, 1)\n",
    "    similarities_for_values = similarities[max_similarity_indexes].reshape(use_n_similarities, 1)\n",
    "    final_score = (values_from_mat.T @ similarities_for_values) / np.sum(similarities)\n",
    "\n",
    "    centered_mat[row_idx, column_idx] = final_score"
   ],
   "metadata": {
    "collapsed": false,
    "pycharm": {
     "name": "#%%\n"
    }
   }
  },
  {
   "cell_type": "code",
   "execution_count": 277,
   "outputs": [
    {
     "data": {
      "text/plain": "array([[-2.6       ,  0.2934099 , -0.6       , -0.6447565 , -0.20880109,\n         1.4       ,  0.        , -0.29183546,  1.4       ,  0.        ,\n         0.4       ,  0.        ],\n       [ 0.        , -0.76509006,  1.83333333,  0.83333333,  1.57424919,\n        -0.61647051,  0.83333333,  0.44254914,  0.        , -1.16666667,\n        -2.16666667, -0.16666667],\n       [-1.        ,  1.        , -0.09272279, -2.        , -1.        ,\n         1.26719749,  0.        , -1.10879769,  1.        ,  0.        ,\n         2.        ,  0.        ],\n       [ 0.        , -1.4       ,  0.6       ,  0.26302395,  1.6       ,\n        -1.06984725,  0.65330511,  0.6       ,  0.        , -0.86537312,\n        -1.4       ,  0.91818215],\n       [ 0.        , -0.90395725,  0.66666667, -0.33333333,  0.66666667,\n        -1.33333333,  0.84322801,  0.56947997,  0.        , -1.12953063,\n        -1.33333333,  1.66666667],\n       [-1.6       ,  0.50124657,  0.4       , -1.24885043,  0.4       ,\n         1.15999437,  0.        , -0.6       ,  1.33921319,  0.        ,\n         1.4       ,  0.        ]])"
     },
     "execution_count": 277,
     "metadata": {},
     "output_type": "execute_result"
    }
   ],
   "source": [
    "for k in range(centered_matrix.shape[1]):\n",
    "    for i in range(centered_matrix.shape[0]):\n",
    "        if np.isnan(centered_matrix[i, k]):\n",
    "            fill_with_cossim(centered_matrix, i, k)\n",
    "\n",
    "centered_matrix"
   ],
   "metadata": {
    "collapsed": false,
    "pycharm": {
     "name": "#%%\n"
    }
   }
  },
  {
   "cell_type": "markdown",
   "metadata": {},
   "source": [
    "## Bonus - Content-based Filtering\n",
    "\n",
    "Stáhněte si Kaggle dataset [Spotify Recommendation system](https://www.kaggle.com/bricevergnou/spotify-recommendation). Y datasetu budete pot5ebovat:\n",
    "\n",
    "- data.csv = příznaky k jednotlivým skladbám + příznak liked pro klasifikaci\n",
    "\n",
    "Úkolem je:\n",
    "\n",
    "1. Načíst data z csv.\n",
    "2. Vytvořit train (90 %) a test (10 %) split pomocí knihovny [sklearn](https://scikit-learn.org/stable/modules/generated/sklearn.model_selection.train_test_split.html).\n",
    "3. Vytvořit model logistické regrese (vlastní implementace / využití knihovny sklearn nebo jiné).\n",
    "4. Vyhodnotit data na testovací sadě (např. metoda score u LogisticRegression).\n",
    "\n",
    "**Skóre pro uznání úlohy musí být vyšší než 89 %.**\n",
    "\n",
    "Dobrovolné: vytvořit graf predikovaných vs aktuálních hodnot\n",
    "Získání bodu navíc: Využijte i další algoritmy pro binární klasifikaci."
   ]
  },
  {
   "cell_type": "code",
   "execution_count": 278,
   "outputs": [],
   "source": [
    "import pandas as pd\n",
    "from sklearn.linear_model import LogisticRegression\n",
    "from sklearn.model_selection import train_test_split\n",
    "import matplotlib.pyplot as plt"
   ],
   "metadata": {
    "collapsed": false,
    "pycharm": {
     "name": "#%%\n"
    }
   }
  },
  {
   "cell_type": "code",
   "execution_count": 279,
   "outputs": [
    {
     "data": {
      "text/plain": "   danceability  energy  key  loudness  mode  speechiness  acousticness  \\\n0         0.803  0.6240    7    -6.764     0       0.0477         0.451   \n1         0.762  0.7030   10    -7.951     0       0.3060         0.206   \n2         0.261  0.0149    1   -27.528     1       0.0419         0.992   \n3         0.722  0.7360    3    -6.994     0       0.0585         0.431   \n4         0.787  0.5720    1    -7.516     1       0.2220         0.145   \n\n   instrumentalness  liveness  valence    tempo  duration_ms  time_signature  \\\n0          0.000734    0.1000   0.6280   95.968       304524               4   \n1          0.000000    0.0912   0.5190  151.329       247178               4   \n2          0.897000    0.1020   0.0382   75.296       286987               4   \n3          0.000001    0.1230   0.5820   89.860       208920               4   \n4          0.000000    0.0753   0.6470  155.117       179413               4   \n\n   liked  \n0      0  \n1      1  \n2      0  \n3      1  \n4      1  ",
      "text/html": "<div>\n<style scoped>\n    .dataframe tbody tr th:only-of-type {\n        vertical-align: middle;\n    }\n\n    .dataframe tbody tr th {\n        vertical-align: top;\n    }\n\n    .dataframe thead th {\n        text-align: right;\n    }\n</style>\n<table border=\"1\" class=\"dataframe\">\n  <thead>\n    <tr style=\"text-align: right;\">\n      <th></th>\n      <th>danceability</th>\n      <th>energy</th>\n      <th>key</th>\n      <th>loudness</th>\n      <th>mode</th>\n      <th>speechiness</th>\n      <th>acousticness</th>\n      <th>instrumentalness</th>\n      <th>liveness</th>\n      <th>valence</th>\n      <th>tempo</th>\n      <th>duration_ms</th>\n      <th>time_signature</th>\n      <th>liked</th>\n    </tr>\n  </thead>\n  <tbody>\n    <tr>\n      <th>0</th>\n      <td>0.803</td>\n      <td>0.6240</td>\n      <td>7</td>\n      <td>-6.764</td>\n      <td>0</td>\n      <td>0.0477</td>\n      <td>0.451</td>\n      <td>0.000734</td>\n      <td>0.1000</td>\n      <td>0.6280</td>\n      <td>95.968</td>\n      <td>304524</td>\n      <td>4</td>\n      <td>0</td>\n    </tr>\n    <tr>\n      <th>1</th>\n      <td>0.762</td>\n      <td>0.7030</td>\n      <td>10</td>\n      <td>-7.951</td>\n      <td>0</td>\n      <td>0.3060</td>\n      <td>0.206</td>\n      <td>0.000000</td>\n      <td>0.0912</td>\n      <td>0.5190</td>\n      <td>151.329</td>\n      <td>247178</td>\n      <td>4</td>\n      <td>1</td>\n    </tr>\n    <tr>\n      <th>2</th>\n      <td>0.261</td>\n      <td>0.0149</td>\n      <td>1</td>\n      <td>-27.528</td>\n      <td>1</td>\n      <td>0.0419</td>\n      <td>0.992</td>\n      <td>0.897000</td>\n      <td>0.1020</td>\n      <td>0.0382</td>\n      <td>75.296</td>\n      <td>286987</td>\n      <td>4</td>\n      <td>0</td>\n    </tr>\n    <tr>\n      <th>3</th>\n      <td>0.722</td>\n      <td>0.7360</td>\n      <td>3</td>\n      <td>-6.994</td>\n      <td>0</td>\n      <td>0.0585</td>\n      <td>0.431</td>\n      <td>0.000001</td>\n      <td>0.1230</td>\n      <td>0.5820</td>\n      <td>89.860</td>\n      <td>208920</td>\n      <td>4</td>\n      <td>1</td>\n    </tr>\n    <tr>\n      <th>4</th>\n      <td>0.787</td>\n      <td>0.5720</td>\n      <td>1</td>\n      <td>-7.516</td>\n      <td>1</td>\n      <td>0.2220</td>\n      <td>0.145</td>\n      <td>0.000000</td>\n      <td>0.0753</td>\n      <td>0.6470</td>\n      <td>155.117</td>\n      <td>179413</td>\n      <td>4</td>\n      <td>1</td>\n    </tr>\n  </tbody>\n</table>\n</div>"
     },
     "execution_count": 279,
     "metadata": {},
     "output_type": "execute_result"
    }
   ],
   "source": [
    "df = pd.read_csv('data.csv')\n",
    "df.head()"
   ],
   "metadata": {
    "collapsed": false,
    "pycharm": {
     "name": "#%%\n"
    }
   }
  },
  {
   "cell_type": "code",
   "execution_count": 280,
   "outputs": [
    {
     "data": {
      "text/plain": "(array([[ 8.03000e-01,  6.24000e-01,  7.00000e+00, -6.76400e+00,\n          0.00000e+00,  4.77000e-02,  4.51000e-01,  7.34000e-04,\n          1.00000e-01,  6.28000e-01,  9.59680e+01,  3.04524e+05,\n          4.00000e+00],\n        [ 7.62000e-01,  7.03000e-01,  1.00000e+01, -7.95100e+00,\n          0.00000e+00,  3.06000e-01,  2.06000e-01,  0.00000e+00,\n          9.12000e-02,  5.19000e-01,  1.51329e+02,  2.47178e+05,\n          4.00000e+00]]),\n array([[0.],\n        [1.]]))"
     },
     "execution_count": 280,
     "metadata": {},
     "output_type": "execute_result"
    }
   ],
   "source": [
    "X, y = df.to_numpy()[:, :-1].astype('float'), df.to_numpy()[:, -1:].astype('float')\n",
    "X[:2, :], y[:2, :]"
   ],
   "metadata": {
    "collapsed": false,
    "pycharm": {
     "name": "#%%\n"
    }
   }
  },
  {
   "cell_type": "code",
   "execution_count": 281,
   "outputs": [
    {
     "data": {
      "text/plain": "<Figure size 432x288 with 1 Axes>",
      "image/png": "[encoded data removed]"
     },
     "metadata": {
      "needs_background": "light"
     },
     "output_type": "display_data"
    }
   ],
   "source": [
    "plt.bar(['0', '1'], [y[y == 0.].shape[0], y[y == 1].shape[0]])\n",
    "plt.title('class distribution')\n",
    "plt.show()"
   ],
   "metadata": {
    "collapsed": false,
    "pycharm": {
     "name": "#%%\n"
    }
   }
  },
  {
   "cell_type": "code",
   "execution_count": 282,
   "outputs": [
    {
     "data": {
      "text/plain": "((175, 13), (20, 13), (175, 1), (20, 1))"
     },
     "execution_count": 282,
     "metadata": {},
     "output_type": "execute_result"
    }
   ],
   "source": [
    "X_train, X_test, y_train, y_test = train_test_split(X, y, test_size=.1, shuffle=True)\n",
    "X_train.shape, X_test.shape, y_train.shape, y_test.shape"
   ],
   "metadata": {
    "collapsed": false,
    "pycharm": {
     "name": "#%%\n"
    }
   }
  },
  {
   "cell_type": "code",
   "execution_count": 283,
   "metadata": {},
   "outputs": [
    {
     "data": {
      "text/plain": "LogisticRegression()"
     },
     "execution_count": 283,
     "metadata": {},
     "output_type": "execute_result"
    }
   ],
   "source": [
    "model = LogisticRegression()\n",
    "model.fit(X_train, y_train.ravel())"
   ]
  },
  {
   "cell_type": "code",
   "execution_count": 284,
   "outputs": [
    {
     "data": {
      "text/plain": "0.75"
     },
     "execution_count": 284,
     "metadata": {},
     "output_type": "execute_result"
    }
   ],
   "source": [
    "acc = model.score(X_test, y_test)\n",
    "acc"
   ],
   "metadata": {
    "collapsed": false,
    "pycharm": {
     "name": "#%%\n"
    }
   }
  },
  {
   "cell_type": "code",
   "execution_count": null,
   "outputs": [],
   "source": [],
   "metadata": {
    "collapsed": false,
    "pycharm": {
     "name": "#%%\n"
    }
   }
  }
 ],
 "metadata": {
  "kernelspec": {
   "display_name": "Python 3",
   "language": "python",
   "name": "python3"
  },
  "language_info": {
   "codemirror_mode": {
    "name": "ipython",
    "version": 3
   },
   "file_extension": ".py",
   "mimetype": "text/x-python",
   "name": "python",
   "nbconvert_exporter": "python",
   "pygments_lexer": "ipython3",
   "version": "3.7.6"
  }
 },
 "nbformat": 4,
 "nbformat_minor": 4
}