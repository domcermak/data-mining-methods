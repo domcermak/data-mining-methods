{
 "cells": [
  {
   "cell_type": "markdown",
   "metadata": {},
   "source": [
    "# MVD 5. cvičení\n",
    "\n",
    "## 1. část - TF-IDF s word embeddingy\n",
    "\n",
    "V minulém cvičení bylo za úkol implementovat TF-IDF algoritmus nad datasetem z Kagglu. Dnešní cvičení je rozšířením této úlohy s použitím word embeddingů. Lze použít předtrénované GloVe embeddingy ze 3. cvičení, nebo si v případě zájmu můžete vyzkoušet práci s Word2Vec od Googlu (najdete [zde](https://code.google.com/archive/p/word2vec/)).\n",
    "\n",
    "Cvičení by mělo obsahovat následující části:\n",
    "- Načtení článků a embeddingů\n",
    "- Výpočet document vektorů pomocí TF-IDF a word embeddingů \n",
    "    - Pro výpočet TF-IDF využijte [TfidfVectorizer](https://scikit-learn.org/stable/modules/generated/sklearn.feature_extraction.text.TfidfVectorizer.html) z knihovny sklearn\n",
    "    - Vážený průměr GloVe / Word2Vec vektorů\n",
    "\n",
    "<center>\n",
    "$\n",
    "doc\\_vector = \\frac{1}{|d|} \\sum\\limits_{w \\in d} TF\\_IDF(w) glove(w)\n",
    "$\n",
    "</center>\n",
    "\n",
    "- Dotaz bude transformován stejně jako dokument\n",
    "\n",
    "- Výpočet relevance pomocí kosinové podobnosti\n",
    "<center>\n",
    "$\n",
    "score(q,d) = cos\\_sim(query\\_vector, doc\\_vector)\n",
    "$\n",
    "</center>\n",
    "\n",
    "### Načtení článků"
   ]
  },
  {
   "cell_type": "code",
   "execution_count": 2,
   "metadata": {},
   "outputs": [],
   "source": [
    "import pandas as pd"
   ]
  },
  {
   "cell_type": "code",
   "execution_count": 3,
   "outputs": [
    {
     "data": {
      "text/plain": "             author claps  reading_time  \\\n0        Justin Lee  8.3K            11   \n1       Conor Dewey  1.4K             7   \n2  William Koehrsen  2.8K            11   \n3      Gant Laborde  1.3K             7   \n4  Emmanuel Ameisen   935            11   \n\n                                                link  \\\n0  https://medium.com/swlh/chatbots-were-the-next...   \n1  https://towardsdatascience.com/python-for-data...   \n2  https://towardsdatascience.com/automated-featu...   \n3  https://medium.freecodecamp.org/machine-learni...   \n4  https://blog.insightdatascience.com/reinforcem...   \n\n                                               title  \\\n0  Chatbots were the next big thing: what happene...   \n1  Python for Data Science: 8 Concepts You May Ha...   \n2  Automated Feature Engineering in Python – Towa...   \n3  Machine Learning: how to go from Zero to Hero ...   \n4  Reinforcement Learning from scratch – Insight ...   \n\n                                                text  \n0  Oh, how the headlines blared:\\nChatbots were T...  \n1  If you’ve ever found yourself looking up the s...  \n2  Machine learning is increasingly moving from h...  \n3  If your understanding of A.I. and Machine Lear...  \n4  Want to learn about applied Artificial Intelli...  ",
      "text/html": "<div>\n<style scoped>\n    .dataframe tbody tr th:only-of-type {\n        vertical-align: middle;\n    }\n\n    .dataframe tbody tr th {\n        vertical-align: top;\n    }\n\n    .dataframe thead th {\n        text-align: right;\n    }\n</style>\n<table border=\"1\" class=\"dataframe\">\n  <thead>\n    <tr style=\"text-align: right;\">\n      <th></th>\n      <th>author</th>\n      <th>claps</th>\n      <th>reading_time</th>\n      <th>link</th>\n      <th>title</th>\n      <th>text</th>\n    </tr>\n  </thead>\n  <tbody>\n    <tr>\n      <th>0</th>\n      <td>Justin Lee</td>\n      <td>8.3K</td>\n      <td>11</td>\n      <td>https://medium.com/swlh/chatbots-were-the-next...</td>\n      <td>Chatbots were the next big thing: what happene...</td>\n      <td>Oh, how the headlines blared:\\nChatbots were T...</td>\n    </tr>\n    <tr>\n      <th>1</th>\n      <td>Conor Dewey</td>\n      <td>1.4K</td>\n      <td>7</td>\n      <td>https://towardsdatascience.com/python-for-data...</td>\n      <td>Python for Data Science: 8 Concepts You May Ha...</td>\n      <td>If you’ve ever found yourself looking up the s...</td>\n    </tr>\n    <tr>\n      <th>2</th>\n      <td>William Koehrsen</td>\n      <td>2.8K</td>\n      <td>11</td>\n      <td>https://towardsdatascience.com/automated-featu...</td>\n      <td>Automated Feature Engineering in Python – Towa...</td>\n      <td>Machine learning is increasingly moving from h...</td>\n    </tr>\n    <tr>\n      <th>3</th>\n      <td>Gant Laborde</td>\n      <td>1.3K</td>\n      <td>7</td>\n      <td>https://medium.freecodecamp.org/machine-learni...</td>\n      <td>Machine Learning: how to go from Zero to Hero ...</td>\n      <td>If your understanding of A.I. and Machine Lear...</td>\n    </tr>\n    <tr>\n      <th>4</th>\n      <td>Emmanuel Ameisen</td>\n      <td>935</td>\n      <td>11</td>\n      <td>https://blog.insightdatascience.com/reinforcem...</td>\n      <td>Reinforcement Learning from scratch – Insight ...</td>\n      <td>Want to learn about applied Artificial Intelli...</td>\n    </tr>\n  </tbody>\n</table>\n</div>"
     },
     "execution_count": 3,
     "metadata": {},
     "output_type": "execute_result"
    }
   ],
   "source": [
    "df = pd.read_csv('../cv04/articles.csv', delimiter=',')\n",
    "df.head()"
   ],
   "metadata": {
    "collapsed": false,
    "pycharm": {
     "name": "#%%\n"
    }
   }
  },
  {
   "cell_type": "markdown",
   "metadata": {},
   "source": [
    "### Načtení embeddingů"
   ]
  },
  {
   "cell_type": "code",
   "execution_count": 6,
   "metadata": {},
   "outputs": [
    {
     "name": "stderr",
     "output_type": "stream",
     "text": [
      "Loading vectors: 100%|██████████| 400001/400001 [00:22<00:00, 17512.86it/s]\n"
     ]
    },
    {
     "data": {
      "text/plain": "((400001,), (400001, 50))"
     },
     "execution_count": 6,
     "metadata": {},
     "output_type": "execute_result"
    }
   ],
   "source": [
    "import numpy as np\n",
    "from tqdm import tqdm\n",
    "\n",
    "with open('glove/glove.6B.50d.txt', 'r') as file:\n",
    "    lines = file.readlines()\n",
    "    words, vectors = [], np.zeros((len(lines), len(lines[0].strip().split(' ')) - 1))\n",
    "    i = 0\n",
    "    for line in tqdm(lines, 'Loading vectors'):\n",
    "        word, *vector = line.strip().split(' ')\n",
    "        words.append(word)\n",
    "        vectors[i, :] = np.array(vector).astype(np.float64)\n",
    "        i += 1\n",
    "np.array(words).shape, vectors.shape"
   ]
  },
  {
   "cell_type": "code",
   "execution_count": 7,
   "outputs": [],
   "source": [
    "word2idx = {k: v for v, k in enumerate(words)}"
   ],
   "metadata": {
    "collapsed": false,
    "pycharm": {
     "name": "#%%\n"
    }
   }
  },
  {
   "cell_type": "markdown",
   "metadata": {},
   "source": [
    "### TF-IDF + Word2Vec a vytvoření doc vektorů"
   ]
  },
  {
   "cell_type": "code",
   "execution_count": 19,
   "metadata": {},
   "outputs": [],
   "source": [
    "from sklearn.feature_extraction.text import TfidfVectorizer"
   ]
  },
  {
   "cell_type": "code",
   "execution_count": 52,
   "outputs": [],
   "source": [
    "def make_doc_vector(document):\n",
    "    vectorizer = TfidfVectorizer()\n",
    "    scores = vectorizer.fit_transform([document])\n",
    "    tf_idf = pd.DataFrame(scores.toarray(), columns=vectorizer.get_feature_names())\n",
    "\n",
    "    vec = np.zeros((1, vectors.shape[1]))\n",
    "    for word in vectorizer.get_feature_names():\n",
    "        try:\n",
    "            vec += vectors[word2idx[word]] * tf_idf[word][0]\n",
    "        except:\n",
    "            pass\n",
    "\n",
    "    return vec / len(vectorizer.get_feature_names())"
   ],
   "metadata": {
    "collapsed": false,
    "pycharm": {
     "name": "#%%\n"
    }
   }
  },
  {
   "cell_type": "code",
   "execution_count": 53,
   "outputs": [
    {
     "name": "stderr",
     "output_type": "stream",
     "text": [
      "/Users/admin/opt/anaconda3/envs/MVD_2021/lib/python3.7/site-packages/sklearn/utils/deprecation.py:87: FutureWarning: Function get_feature_names is deprecated; get_feature_names is deprecated in 1.0 and will be removed in 1.2. Please use get_feature_names_out instead.\n",
      "  warnings.warn(msg, category=FutureWarning)\n"
     ]
    },
    {
     "data": {
      "text/plain": "array([[ 0.11297326,  0.01671256,  0.0067473 , -0.02334926,  0.09781586,\n         0.02775704, -0.16440604, -0.23764566, -0.01647444,  0.06283889,\n         0.06001796,  0.15566989, -0.05849096,  0.00570791,  0.15809441,\n         0.0830353 ,  0.00769511,  0.04670637, -0.05362259, -0.09813815,\n         0.02883481,  0.0620337 ,  0.13047074,  0.01771267,  0.12535656,\n        -0.36996681, -0.22786137, -0.07816489,  0.05963644, -0.13055852,\n         0.97595556, -0.01628415, -0.09973481, -0.22697778,  0.01069873,\n         0.06329685, -0.01700181,  0.02438007,  0.0061157 , -0.04410222,\n        -0.00136489, -0.05308185,  0.00820659,  0.17844667, -0.03375481,\n         0.04537089,  0.11061478,  0.11117926, -0.0517525 ,  0.00865874]])"
     },
     "execution_count": 53,
     "metadata": {},
     "output_type": "execute_result"
    }
   ],
   "source": [
    "make_doc_vector(df.title[1])"
   ],
   "metadata": {
    "collapsed": false,
    "pycharm": {
     "name": "#%%\n"
    }
   }
  },
  {
   "cell_type": "code",
   "execution_count": 58,
   "outputs": [
    {
     "name": "stderr",
     "output_type": "stream",
     "text": [
      "Creating vectors:   0%|          | 0/337 [00:00<?, ?it/s]/Users/admin/opt/anaconda3/envs/MVD_2021/lib/python3.7/site-packages/sklearn/utils/deprecation.py:87: FutureWarning: Function get_feature_names is deprecated; get_feature_names is deprecated in 1.0 and will be removed in 1.2. Please use get_feature_names_out instead.\n",
      "  warnings.warn(msg, category=FutureWarning)\n",
      "Creating vectors: 100%|██████████| 337/337 [00:01<00:00, 229.61it/s]\n"
     ]
    }
   ],
   "source": [
    "doc_vectors = np.zeros((len(df), vectors.shape[1]))\n",
    "for i in tqdm(range(len(df)), 'Creating vectors'):\n",
    "    doc_vectors[i] = make_doc_vector(df.iloc[i].title)"
   ],
   "metadata": {
    "collapsed": false,
    "pycharm": {
     "name": "#%%\n"
    }
   }
  },
  {
   "cell_type": "markdown",
   "metadata": {},
   "source": [
    "### Transformace dotazu a výpočet relevance"
   ]
  },
  {
   "cell_type": "code",
   "execution_count": 59,
   "metadata": {},
   "outputs": [],
   "source": [
    "def cossim(a, b):\n",
    "    return np.dot(a, b.T) / (np.linalg.norm(a) * np.linalg.norm(b))"
   ]
  },
  {
   "cell_type": "code",
   "execution_count": 64,
   "outputs": [
    {
     "name": "stderr",
     "output_type": "stream",
     "text": [
      "/Users/admin/opt/anaconda3/envs/MVD_2021/lib/python3.7/site-packages/sklearn/utils/deprecation.py:87: FutureWarning: Function get_feature_names is deprecated; get_feature_names is deprecated in 1.0 and will be removed in 1.2. Please use get_feature_names_out instead.\n",
      "  warnings.warn(msg, category=FutureWarning)\n",
      "Evaluating vectors:   0%|          | 0/337 [00:00<?, ?it/s]/Users/admin/opt/anaconda3/envs/MVD_2021/lib/python3.7/site-packages/ipykernel_launcher.py:2: RuntimeWarning: invalid value encountered in true_divide\n",
      "  \n",
      "Evaluating vectors: 100%|██████████| 337/337 [00:01<00:00, 234.56it/s]\n"
     ]
    }
   ],
   "source": [
    "scores = np.zeros((len(df), 1))\n",
    "\n",
    "query_vector = make_doc_vector('coursera vs udacity machine learning')\n",
    "for i in tqdm(range(len(df)), 'Evaluating vectors'):\n",
    "    scores[i] = cossim(query_vector, make_doc_vector(df.iloc[i].title))\n",
    "df['score'] = scores"
   ],
   "metadata": {
    "collapsed": false,
    "pycharm": {
     "name": "#%%\n"
    }
   }
  },
  {
   "cell_type": "code",
   "execution_count": 65,
   "outputs": [
    {
     "data": {
      "text/plain": "                                                 title     score\n276  Coursera vs Udacity for Machine Learning – Hac...  0.893807\n53   Machine Learning เรียนอะไร, รู้ไปทําไม – O v e...  0.801541\n144  A Beginner’s Guide to AI/ML 🤖👶 – Machine Learn...  0.771436\n196  A Beginner’s Guide to AI/ML 🤖👶 – Machine Learn...  0.771436\n68   A Beginner’s Guide to AI/ML 🤖👶 – Machine Learn...  0.771436\n288   ИИ-психопат и ИИ-обманщик – Hey Machine Learning  0.753258\n6    An intro to Machine Learning for designers – U...  0.749931\n90   An intro to Machine Learning for designers – U...  0.749931\n192  Ultimate Guide to Leveraging NLP & Machine Lea...  0.738272\n49   The 7 Best Data Science and Machine Learning P...  0.735582",
      "text/html": "<div>\n<style scoped>\n    .dataframe tbody tr th:only-of-type {\n        vertical-align: middle;\n    }\n\n    .dataframe tbody tr th {\n        vertical-align: top;\n    }\n\n    .dataframe thead th {\n        text-align: right;\n    }\n</style>\n<table border=\"1\" class=\"dataframe\">\n  <thead>\n    <tr style=\"text-align: right;\">\n      <th></th>\n      <th>title</th>\n      <th>score</th>\n    </tr>\n  </thead>\n  <tbody>\n    <tr>\n      <th>276</th>\n      <td>Coursera vs Udacity for Machine Learning – Hac...</td>\n      <td>0.893807</td>\n    </tr>\n    <tr>\n      <th>53</th>\n      <td>Machine Learning เรียนอะไร, รู้ไปทําไม – O v e...</td>\n      <td>0.801541</td>\n    </tr>\n    <tr>\n      <th>144</th>\n      <td>A Beginner’s Guide to AI/ML 🤖👶 – Machine Learn...</td>\n      <td>0.771436</td>\n    </tr>\n    <tr>\n      <th>196</th>\n      <td>A Beginner’s Guide to AI/ML 🤖👶 – Machine Learn...</td>\n      <td>0.771436</td>\n    </tr>\n    <tr>\n      <th>68</th>\n      <td>A Beginner’s Guide to AI/ML 🤖👶 – Machine Learn...</td>\n      <td>0.771436</td>\n    </tr>\n    <tr>\n      <th>288</th>\n      <td>ИИ-психопат и ИИ-обманщик – Hey Machine Learning</td>\n      <td>0.753258</td>\n    </tr>\n    <tr>\n      <th>6</th>\n      <td>An intro to Machine Learning for designers – U...</td>\n      <td>0.749931</td>\n    </tr>\n    <tr>\n      <th>90</th>\n      <td>An intro to Machine Learning for designers – U...</td>\n      <td>0.749931</td>\n    </tr>\n    <tr>\n      <th>192</th>\n      <td>Ultimate Guide to Leveraging NLP &amp; Machine Lea...</td>\n      <td>0.738272</td>\n    </tr>\n    <tr>\n      <th>49</th>\n      <td>The 7 Best Data Science and Machine Learning P...</td>\n      <td>0.735582</td>\n    </tr>\n  </tbody>\n</table>\n</div>"
     },
     "execution_count": 65,
     "metadata": {},
     "output_type": "execute_result"
    }
   ],
   "source": [
    "df.sort_values(by='score', ascending=False).head(10)[['title', 'score']]"
   ],
   "metadata": {
    "collapsed": false,
    "pycharm": {
     "name": "#%%\n"
    }
   }
  },
  {
   "cell_type": "markdown",
   "metadata": {},
   "source": [
    "## Bonus - Našeptávání\n",
    "\n",
    "Bonusem dnešního cvičení je našeptávání pomocí rekurentních neuronových sítí. Úkolem je vytvořit jednoduchou rekurentní neuronovou síť, která bude generovat text (character-level přístup). \n",
    "\n",
    "Optimální je začít po dokončení cvičení k předmětu ANS, kde se tato úloha řeší. \n",
    "\n",
    "Dataset pro učení vaší neuronové sítě naleznete na stránkách [Yahoo research](https://webscope.sandbox.yahoo.com/catalog.php?datatype=l&guccounter=1), lze využít např. i větší [Kaggle dataset](https://www.kaggle.com/c/yandex-personalized-web-search-challenge/data) nebo vyhledat další dataset na [Google DatasetSearch](https://datasetsearch.research.google.com/).\n",
    "\n",
    "Vstupem bude rozepsaný dotaz a výstupem by měly být alespoň 3 dokončené dotazy."
   ]
  },
  {
   "cell_type": "code",
   "execution_count": null,
   "metadata": {},
   "outputs": [],
   "source": []
  }
 ],
 "metadata": {
  "kernelspec": {
   "display_name": "Python 3",
   "language": "python",
   "name": "python3"
  },
  "language_info": {
   "codemirror_mode": {
    "name": "ipython",
    "version": 3
   },
   "file_extension": ".py",
   "mimetype": "text/x-python",
   "name": "python",
   "nbconvert_exporter": "python",
   "pygments_lexer": "ipython3",
   "version": "3.7.6"
  }
 },
 "nbformat": 4,
 "nbformat_minor": 4
}