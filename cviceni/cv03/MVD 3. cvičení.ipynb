{
 "cells": [
  {
   "cell_type": "markdown",
   "metadata": {},
   "source": [
    "# MVD 3. cvičení\n",
    "\n",
    "## 1. část - Stažení a načtení předtrénovaných GloVe slovních reprezentací\n",
    "\n",
    "\n",
    "### Stažení dat\n",
    "\n",
    "Pro toto cvičení můžete používat předtrénované Word2Vec nebo GloVe vektory. Následující text se vztahuje ke GloVe vektorům, které byly vybrány z důvodu menší velikosti. \n",
    "\n",
    "Základní verzi vektorů lze stáhnout [zde (GloVe link)](https://huggingface.co/stanfordnlp/glove/resolve/main/glove.6B.zip).\n",
    "\n",
    "Wikipedia 2014 + Gigaword 5 (6B tokens, 400K vocab, uncased, 300d vectors, 822 MB download)\n",
    "\n",
    "Po rozbalení staženého archivu budete mít několik verzí o různé dimenzi vektorů - 50d, 100d, 200d, 300d. Je doporučeno začít pracovat s nejmenšími vektory a na větších spouštět až závěrečné řešení.\n",
    "\n",
    "### Načtení dat\n",
    "\n",
    "Data jsou uložena v textovém souboru, kde je na každém řádku slovo a jeho příslušný vektor.\n",
    "\n",
    "Načtení je vhodné provést do dvou proměnných -> words, vectors. Words bude list o délce *n* a vectors bude matice o velikosti *(n, d)*. \n",
    "\n",
    "Zároveň vytvořte slovník word2idx, pomocí kterého lze získat index libovolného slova (pomocí *word2idx['queen']*)."
   ]
  },
  {
   "cell_type": "code",
   "execution_count": null,
   "metadata": {},
   "outputs": [],
   "source": []
  },
  {
   "cell_type": "markdown",
   "metadata": {},
   "source": [
    "## 2. část - Kosinová podobnost\n",
    "\n",
    "Vytvořte funkci cossim, která bude vracet kosinovu podobnost dvou vstupních vektorů.\n",
    "\n",
    "<br>\n",
    "<center>\n",
    "$\n",
    "similarity(a,b) = cos(\\theta) = \\frac{a \\cdot b}{\\lVert a \\lVert \\lVert b \\lVert}\n",
    "$\n",
    "</center>"
   ]
  },
  {
   "cell_type": "code",
   "execution_count": null,
   "metadata": {},
   "outputs": [],
   "source": []
  },
  {
   "cell_type": "markdown",
   "metadata": {},
   "source": [
    "## 3. část - Slovní analogie\n",
    "\n",
    "Nejznámější slovní analogií je z Word2Vec $f(\"king\") - f(\"man\") = f(\"queen\") - f(\"woman\")$\n",
    "\n",
    "1. Vytvořte skript pro hledání analogií $f(\"king\") - f(\"man\") = f(\"??\") - f(\"woman\")$ a vyzkoušejte i nějaké další.\n",
    "2. Vypište 5 nejpodobnějších slov"
   ]
  },
  {
   "cell_type": "code",
   "execution_count": null,
   "metadata": {},
   "outputs": [],
   "source": []
  },
  {
   "cell_type": "markdown",
   "metadata": {},
   "source": [
    "### Bonus - Vytvořte vizualizaci slovních analogií\n",
    "\n",
    "Pro získání bonusového bodu je potřeba vytvořit vizualizaci slovních analogií (redukce dimenze + vizualizace)."
   ]
  },
  {
   "cell_type": "code",
   "execution_count": null,
   "metadata": {},
   "outputs": [],
   "source": []
  }
 ],
 "metadata": {
  "kernelspec": {
   "display_name": "Python 3",
   "language": "python",
   "name": "python3"
  },
  "language_info": {
   "codemirror_mode": {
    "name": "ipython",
    "version": 3
   },
   "file_extension": ".py",
   "mimetype": "text/x-python",
   "name": "python",
   "nbconvert_exporter": "python",
   "pygments_lexer": "ipython3",
   "version": "3.7.6"
  }
 },
 "nbformat": 4,
 "nbformat_minor": 4
}
