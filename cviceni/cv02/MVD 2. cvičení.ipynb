{
 "cells": [
  {
   "cell_type": "markdown",
   "id": "united-macedonia",
   "metadata": {},
   "source": [
    "# MVD 2. Cvičení\n",
    "\n",
    "Potřebné knihovny\n",
    "- plotly\n",
    "- matplotlib\n",
    "- sklearn\n",
    "- numpy\n",
    "- pickle\n",
    "\n",
    "## 1. část - Základní vizualizace dat\n",
    "\n",
    "Úkolem v první části je vyzkoušet si základní vizualizaci s využitím knihoven Matplotlib a Plotly. Postačí vizualizovat základní sloupcový graf v každé z těchto knihoven s hodnotami [1, 2, 3]."
   ]
  },
  {
   "cell_type": "code",
   "execution_count": null,
   "id": "matched-preliminary",
   "metadata": {},
   "outputs": [],
   "source": []
  },
  {
   "cell_type": "markdown",
   "id": "automated-fossil",
   "metadata": {},
   "source": [
    "## 2. část - Využití t-SNE knihovny pro redukci dimenze dat\n",
    "\n",
    "V této části je úkolem redukovat dimenzi vstupních vektorů a poté je vizualizovat. Jedná se o tzv. vektory mluvčích (x-vektory), které se často využívají při verifikaci mluvčího. Pokud tyto vektory fungují správně, tak by z vizualizace mělo být vidět, že se vektory stejných osob shlukují a zároveň jsou dostatečně vzdálené od vektorů ostatních osob.\n",
    "\n",
    "Je potřeba vyřešit následující úlohy:\n",
    "1. Načíst data, která byla uložena jako tuple (data, Y) pomocí knihovny pickle\n",
    "    - je potřeba binárně otevřít soubor data.pk a správně načíst data\n",
    "    - \"data\" ... jedná se o list obsahující vektory 5 osob, celková velikost je (25, 128)\n",
    "        - v Y jsou labely osob pro jednotlivé vektory (0,0,0,0,0,1,1,1,1,1,2,2,...)\n",
    "        \n",
    "        \n",
    "2. Použít t-SNE pro redukci dimenze dat do 2D (již naimportovaná knihovna), doporučuji přečíst si dokumentaci a podívat se na použití\n",
    "\n",
    "\n",
    "3. Vizualizovat vektory ve 2D s použitím plotly knihovny, graf stačí zobrazit zde v notebooku\n",
    "\n",
    "\n",
    "### Výsledek by měl vypadat přibližně takto\n",
    "![output](sample_output.png)"
   ]
  },
  {
   "cell_type": "code",
   "execution_count": null,
   "id": "intelligent-undergraduate",
   "metadata": {},
   "outputs": [],
   "source": [
    "from sklearn.manifold import TSNE\n",
    "import pickle as pk"
   ]
  },
  {
   "cell_type": "code",
   "execution_count": null,
   "id": "confident-mills",
   "metadata": {},
   "outputs": [],
   "source": []
  },
  {
   "cell_type": "markdown",
   "id": "sought-fellowship",
   "metadata": {},
   "source": [
    "## 3. část - Vizualizace libovolného datasetu\n",
    "\n",
    "Poslední úloha je více otevřená. Můžete použít libovolný dataset a vytvořit libovolné vizualizace (alespoň 2).\n",
    "\n",
    "Čerpat můžete z vlastního zdroje nebo např.:\n",
    "- [Stanford Large Network Dataset Collection](http://snap.stanford.edu/data/index.html)\n",
    "- [UCI Network Data Repository](https://networkdata.ics.uci.edu/)\n",
    "\n",
    "Pokud vytvoříte složitější vizualizaci, nebo provedete zajímavou analýzu datasetu, tak můžete získat bonusový bod."
   ]
  },
  {
   "cell_type": "code",
   "execution_count": null,
   "id": "intended-siemens",
   "metadata": {},
   "outputs": [],
   "source": []
  }
 ],
 "metadata": {
  "kernelspec": {
   "display_name": "Python 3",
   "language": "python",
   "name": "python3"
  },
  "language_info": {
   "codemirror_mode": {
    "name": "ipython",
    "version": 3
   },
   "file_extension": ".py",
   "mimetype": "text/x-python",
   "name": "python",
   "nbconvert_exporter": "python",
   "pygments_lexer": "ipython3",
   "version": "3.7.7"
  }
 },
 "nbformat": 4,
 "nbformat_minor": 5
}
